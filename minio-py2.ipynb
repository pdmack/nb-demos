{
 "cells": [
  {
   "cell_type": "code",
   "execution_count": 2,
   "metadata": {},
   "outputs": [
    {
     "name": "stdout",
     "output_type": "stream",
     "text": [
      "('TF version: : ', '1.10.1')\n",
      "('Python version: ', '2.7.15 | packaged by conda-forge | (default, Oct 12 2018, 14:10:50) \\n[GCC 4.8.2 20140120 (Red Hat 4.8.2-15)]')\n",
      "<tensorflow.python.pywrap_tensorflow_internal.FileStatistics; proxy of <Swig Object of type 'tensorflow::FileStatistics *' at 0x7f0c9f2f02d0> >\n"
     ]
    }
   ],
   "source": [
    "import tensorflow as tf\n",
    "\n",
    "print(\"TF version: : \", tf.__version__)\n",
    "\n",
    "import os\n",
    "\n",
    "import sys\n",
    "print(\"Python version: \", sys.version)\n",
    "\n",
    "os.environ['AWS_ACCESS_KEY_ID'] = 'minio'\n",
    "os.environ['AWS_SECRET_ACCESS_KEY'] = 'minio123'\n",
    "os.environ['AWS_REGION'] = 'eu-west-1'\n",
    "os.environ['S3_REGION'] = 'eu-west-1'\n",
    "os.environ['S3_ENDPOINT'] = 'minio-service-kubeflow.purplehat.lightbend.com'\n",
    "os.environ['S3_USE_HTTPS'] = '0'\n",
    "os.environ['S3_VERIFY_SSL'] = '0'\n",
    "os.environ['TF_CPP_MIN_LOG_LEVEL'] = '3'\n",
    "\n",
    "#os.environ['S3_USE_HTTPS'] = 'false'\n",
    "#os.environ['S3_VERIFY_SSL'] = 'false'\n",
    "\n",
    "from tensorflow.python.lib.io import file_io\n",
    "tf.logging.set_verbosity(tf.logging.INFO)\n",
    "\n",
    "\n",
    "print(file_io.stat('s3://mlpipeline/pipelines/364f52e5-b631-4fe4-8532-2f050a7a1c43'))"
   ]
  }
 ],
 "metadata": {
  "kernelspec": {
   "display_name": "Python 2",
   "language": "python",
   "name": "python2"
  },
  "language_info": {
   "codemirror_mode": {
    "name": "ipython",
    "version": 2
   },
   "file_extension": ".py",
   "mimetype": "text/x-python",
   "name": "python",
   "nbconvert_exporter": "python",
   "pygments_lexer": "ipython2",
   "version": "2.7.15"
  }
 },
 "nbformat": 4,
 "nbformat_minor": 2
}
